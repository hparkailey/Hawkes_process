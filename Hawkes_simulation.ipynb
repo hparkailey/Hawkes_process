{
 "cells": [
  {
   "cell_type": "code",
   "execution_count": 2,
   "metadata": {},
   "outputs": [],
   "source": [
    "from math import *\n",
    "import numpy as np\n",
    "import scipy.integrate as integrate\n",
    "import matplotlib, math\n",
    "from matplotlib import pyplot as plt"
   ]
  },
  {
   "cell_type": "code",
   "execution_count": 26,
   "metadata": {},
   "outputs": [],
   "source": [
    "# Hawkes process\n",
    "def intensity(event_times,history):\n",
    "    mu, alpha, beta = .1, 1, .5\n",
    "    intensities = []\n",
    "    for prev_t in history:\n",
    "        prev_t_int = mu\n",
    "        for t in event_times:\n",
    "            prev_t_int += alpha*np.exp(-beta*(prev_t-t)) if prev_t > t else 0\n",
    "        intensities.append(prev_t_int)\n",
    "    return intensities\n",
    "                       \n",
    "\n",
    "# def power_law_kernel(t,history):\n",
    "#     alpha, beta, theta = .2,.2,.2\n",
    "#     return alpha/(t+beta)^(theta+1)\n",
    "\n",
    "# # how much of the future actions are caused by previous actions \n",
    "# def branching():\n",
    "#     return integrate.quad(exp_kernel,0,np.inf, args= ())\n",
    "\n",
    "# def model_hawkes(times):\n",
    "#     intensities = []\n",
    "#     for t in times:\n",
    "#         intensities.append(intensity(t, prev_t) if t > prev_t else 0 for prev_t in times)\n",
    "#     return intensities\n",
    "    "
   ]
  },
  {
   "cell_type": "code",
   "execution_count": 41,
   "metadata": {},
   "outputs": [],
   "source": [
    "# https://stackoverflow.com/questions/24785518/how-to-compute-residuals-of-a-point-process-in-python\n",
    "\n",
    "timesOfInterest = np.linspace(0.0, 10.0, 100)\n",
    "EventTimes = np.array([0.7, 1.2, 2.0, 3.8, 7.1, 8.2, 8.9, 9.0])\n",
    "conditionalIntensities = intensity(EventTimes, timesOfInterest)"
   ]
  },
  {
   "cell_type": "code",
   "execution_count": 42,
   "metadata": {},
   "outputs": [
    {
     "data": {
      "text/plain": [
       "[<matplotlib.lines.Line2D at 0x7fd6894a3b50>]"
      ]
     },
     "execution_count": 42,
     "metadata": {},
     "output_type": "execute_result"
    },
    {
     "data": {
      "image/png": "[encoded data removed]",
      "text/plain": [
       "<Figure size 432x288 with 1 Axes>"
      ]
     },
     "metadata": {
      "needs_background": "light"
     },
     "output_type": "display_data"
    }
   ],
   "source": [
    "timesOfInterest = np.linspace(0.0, 10.0, 100)\n",
    "EventTimes = np.array([0.7, 1.2, 2.0, 3.8, 7.1, 8.2, 8.9, 9.0])\n",
    "\n",
    "fig, ax = plt.subplots()\n",
    "ax.grid(True)\n",
    "ax.set_xlabel(\"Time\")\n",
    "ax.set_ylabel(\"$\\lambda$\")\n",
    "ax.scatter(EventTimes,np.ones(len(EventTimes))) # where events happened \n",
    "ax.plot(timesOfInterest, conditionalIntensities, color='red')"
   ]
  },
  {
   "cell_type": "code",
   "execution_count": 31,
   "metadata": {},
   "outputs": [],
   "source": [
    "def thinning(events, history):\n",
    "    T = 0\n",
    "    i = 1\n",
    "    current_T = T\n",
    "    accepted = []\n",
    "    while i < len(events):\n",
    "        intensity_t = intensity(events,history) #TODO: where to find history? \n",
    "        u = np.random.uniform(0,1)\n",
    "        t = -math.log(u)/intensity_t\n",
    "        T = T + t\n",
    "        s = np.random.uniform(0,1)\n",
    "        if s <= intensity(T)/intensity_t:\n",
    "            accepted.append(s) \n",
    "            current_T = T\n",
    "            i += 1 \n",
    "        # reject the sample\n",
    "    return accepted "
   ]
  },
  {
   "cell_type": "code",
   "execution_count": 43,
   "metadata": {},
   "outputs": [
    {
     "ename": "TypeError",
     "evalue": "unsupported operand type(s) for /: 'float' and 'list'",
     "output_type": "error",
     "traceback": [
      "\u001b[0;31m---------------------------------------------------------------------------\u001b[0m",
      "\u001b[0;31mTypeError\u001b[0m                                 Traceback (most recent call last)",
      "\u001b[0;32m<ipython-input-43-65bdbc8b9d0f>\u001b[0m in \u001b[0;36m<module>\u001b[0;34m\u001b[0m\n\u001b[0;32m----> 1\u001b[0;31m \u001b[0mthinning\u001b[0m\u001b[0;34m(\u001b[0m\u001b[0mEventTimes\u001b[0m\u001b[0;34m,\u001b[0m \u001b[0mtimesOfInterest\u001b[0m\u001b[0;34m)\u001b[0m\u001b[0;34m\u001b[0m\u001b[0;34m\u001b[0m\u001b[0m\n\u001b[0m",
      "\u001b[0;32m<ipython-input-31-b6de27f067e9>\u001b[0m in \u001b[0;36mthinning\u001b[0;34m(events, history)\u001b[0m\n\u001b[1;32m      7\u001b[0m         \u001b[0mintensity_t\u001b[0m \u001b[0;34m=\u001b[0m \u001b[0mintensity\u001b[0m\u001b[0;34m(\u001b[0m\u001b[0mevents\u001b[0m\u001b[0;34m,\u001b[0m\u001b[0mhistory\u001b[0m\u001b[0;34m)\u001b[0m \u001b[0;31m#TODO: where to find history?\u001b[0m\u001b[0;34m\u001b[0m\u001b[0;34m\u001b[0m\u001b[0m\n\u001b[1;32m      8\u001b[0m         \u001b[0mu\u001b[0m \u001b[0;34m=\u001b[0m \u001b[0mnp\u001b[0m\u001b[0;34m.\u001b[0m\u001b[0mrandom\u001b[0m\u001b[0;34m.\u001b[0m\u001b[0muniform\u001b[0m\u001b[0;34m(\u001b[0m\u001b[0;36m0\u001b[0m\u001b[0;34m,\u001b[0m\u001b[0;36m1\u001b[0m\u001b[0;34m)\u001b[0m\u001b[0;34m\u001b[0m\u001b[0;34m\u001b[0m\u001b[0m\n\u001b[0;32m----> 9\u001b[0;31m         \u001b[0mt\u001b[0m \u001b[0;34m=\u001b[0m \u001b[0;34m-\u001b[0m\u001b[0mmath\u001b[0m\u001b[0;34m.\u001b[0m\u001b[0mlog\u001b[0m\u001b[0;34m(\u001b[0m\u001b[0mu\u001b[0m\u001b[0;34m)\u001b[0m\u001b[0;34m/\u001b[0m\u001b[0mintensity_t\u001b[0m\u001b[0;34m\u001b[0m\u001b[0;34m\u001b[0m\u001b[0m\n\u001b[0m\u001b[1;32m     10\u001b[0m         \u001b[0mT\u001b[0m \u001b[0;34m=\u001b[0m \u001b[0mT\u001b[0m \u001b[0;34m+\u001b[0m \u001b[0mt\u001b[0m\u001b[0;34m\u001b[0m\u001b[0;34m\u001b[0m\u001b[0m\n\u001b[1;32m     11\u001b[0m         \u001b[0ms\u001b[0m \u001b[0;34m=\u001b[0m \u001b[0mnp\u001b[0m\u001b[0;34m.\u001b[0m\u001b[0mrandom\u001b[0m\u001b[0;34m.\u001b[0m\u001b[0muniform\u001b[0m\u001b[0;34m(\u001b[0m\u001b[0;36m0\u001b[0m\u001b[0;34m,\u001b[0m\u001b[0;36m1\u001b[0m\u001b[0;34m)\u001b[0m\u001b[0;34m\u001b[0m\u001b[0;34m\u001b[0m\u001b[0m\n",
      "\u001b[0;31mTypeError\u001b[0m: unsupported operand type(s) for /: 'float' and 'list'"
     ]
    }
   ],
   "source": [
    "thinning(EventTimes, timesOfInterest)"
   ]
  }
 ],
 "metadata": {
  "kernelspec": {
   "display_name": "Python 3",
   "language": "python",
   "name": "python3"
  },
  "language_info": {
   "codemirror_mode": {
    "name": "ipython",
    "version": 3
   },
   "file_extension": ".py",
   "mimetype": "text/x-python",
   "name": "python",
   "nbconvert_exporter": "python",
   "pygments_lexer": "ipython3",
   "version": "3.8.5"
  }
 },
 "nbformat": 4,
 "nbformat_minor": 4
}
