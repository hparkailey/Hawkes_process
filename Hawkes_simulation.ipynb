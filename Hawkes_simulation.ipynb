{
 "cells": [
  {
   "cell_type": "code",
   "execution_count": 3,
   "metadata": {},
   "outputs": [],
   "source": [
    "from math import *\n",
    "import numpy as np\n",
    "import scipy.integrate as integrate\n",
    "import matplotlib, math\n",
    "from matplotlib import pyplot as plt"
   ]
  },
  {
   "cell_type": "code",
   "execution_count": 12,
   "metadata": {},
   "outputs": [],
   "source": [
    "# Hawkes process: exponential kernel version\n",
    "def intensity_exp(event_times,history):\n",
    "    mu, alpha, beta = .1, 1, .5\n",
    "    intensities = []\n",
    "    for prev_t in history:\n",
    "        prev_t_int = mu\n",
    "        for t in event_times:\n",
    "            prev_t_int += alpha*np.exp(-beta*(prev_t-t)) if prev_t > t else 0\n",
    "        intensities.append(prev_t_int)\n",
    "    return intensities\n",
    "                       \n",
    "\n",
    "# Hawkes process: power law kernel version\n",
    "def intensity_plaw(event_times, history):\n",
    "    mu, alpha, beta, eta = .1, 1, .5, .5\n",
    "    intensities = []\n",
    "    for prev_t in history:\n",
    "        prev_t_int = mu\n",
    "        for t in event_times:\n",
    "            prev_t_int += alpha/((prev_t-t + beta)**(eta+1)) if prev_t > t else 0\n",
    "        intensities.append(prev_t_int)\n",
    "    return intensities\n",
    "    \n",
    "    \n",
    "    \n",
    "def power_law_kernel(t,history):\n",
    "    alpha, beta, theta = .2,.2,.2\n",
    "    return alpha/(t+beta)^(theta+1)\n",
    "\n",
    "# # how much of the future actions are caused by previous actions \n",
    "# def branching():\n",
    "#     return integrate.quad(exp_kernel,0,np.inf, args= ())"
   ]
  },
  {
   "cell_type": "code",
   "execution_count": 5,
   "metadata": {},
   "outputs": [],
   "source": [
    "# https://stackoverflow.com/questions/24785518/how-to-compute-residuals-of-a-point-process-in-python\n",
    "\n",
    "timesOfInterest = np.linspace(0.0, 10.0, 100)\n",
    "EventTimes = np.array([0.7, 1.2, 2.0, 3.8, 7.1, 8.2, 8.9, 9.0])\n",
    "conditionalIntensities = intensity_exp(EventTimes, timesOfInterest)"
   ]
  },
  {
   "cell_type": "code",
   "execution_count": 6,
   "metadata": {},
   "outputs": [
    {
     "data": {
      "text/plain": [
       "[<matplotlib.lines.Line2D at 0x7fc4437b6ac0>]"
      ]
     },
     "execution_count": 6,
     "metadata": {},
     "output_type": "execute_result"
    },
    {
     "data": {
      "image/png": "[encoded data removed]",
      "text/plain": [
       "<Figure size 432x288 with 1 Axes>"
      ]
     },
     "metadata": {
      "needs_background": "light"
     },
     "output_type": "display_data"
    }
   ],
   "source": [
    "timesOfInterest = np.linspace(0.0, 10.0, 100)\n",
    "EventTimes = np.array([0.7, 1.2, 2.0, 3.8, 7.1, 8.2, 8.9, 9.0])\n",
    "\n",
    "fig, ax = plt.subplots()\n",
    "ax.set_title(\"Exponential Kernel Time vs $\\lambda$\")\n",
    "ax.grid(True)\n",
    "ax.set_xlabel(\"Time\")\n",
    "ax.set_ylabel(\"$\\lambda$\")\n",
    "ax.scatter(EventTimes,np.ones(len(EventTimes))) # where events happened \n",
    "ax.plot(timesOfInterest, conditionalIntensities, color='red')"
   ]
  },
  {
   "cell_type": "code",
   "execution_count": 14,
   "metadata": {},
   "outputs": [
    {
     "data": {
      "text/plain": [
       "[<matplotlib.lines.Line2D at 0x7fc443bf2580>]"
      ]
     },
     "execution_count": 14,
     "metadata": {},
     "output_type": "execute_result"
    },
    {
     "data": {
      "image/png": "[encoded data removed]",
      "text/plain": [
       "<Figure size 432x288 with 1 Axes>"
      ]
     },
     "metadata": {
      "needs_background": "light"
     },
     "output_type": "display_data"
    }
   ],
   "source": [
    "conditionalIntensities = intensity_plaw(EventTimes, timesOfInterest)\n",
    "\n",
    "fig, ax = plt.subplots()\n",
    "ax.set_title(\"Power Law Kernel Time vs $\\lambda$\")\n",
    "ax.grid(True)\n",
    "ax.set_xlabel(\"Time\")\n",
    "ax.set_ylabel(\"$\\lambda$\")\n",
    "ax.scatter(EventTimes,np.ones(len(EventTimes))) # where events happened \n",
    "ax.plot(timesOfInterest, conditionalIntensities, color='red')"
   ]
  },
  {
   "cell_type": "code",
   "execution_count": 31,
   "metadata": {},
   "outputs": [],
   "source": [
    "def thinning(events, history):\n",
    "    T = 0\n",
    "    i = 1\n",
    "    current_T = T\n",
    "    accepted = []\n",
    "    while i < len(events): # len of events or history?\n",
    "        intensity_t = intensity_exp(events,history) #TODO: where to find history? \n",
    "        u = np.random.uniform(0,1)\n",
    "        t = -math.log(u)/intensity_t\n",
    "        T = T + t\n",
    "        s = np.random.uniform(0,1)\n",
    "        if s <= intensity(T)/intensity_t:\n",
    "            accepted.append(s) \n",
    "            current_T = T\n",
    "            i += 1 \n",
    "    return accepted "
   ]
  }
 ],
 "metadata": {
  "kernelspec": {
   "display_name": "Python 3",
   "language": "python",
   "name": "python3"
  },
  "language_info": {
   "codemirror_mode": {
    "name": "ipython",
    "version": 3
   },
   "file_extension": ".py",
   "mimetype": "text/x-python",
   "name": "python",
   "nbconvert_exporter": "python",
   "pygments_lexer": "ipython3",
   "version": "3.8.5"
  }
 },
 "nbformat": 4,
 "nbformat_minor": 4
}
