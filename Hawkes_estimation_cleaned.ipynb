{
 "cells": [
  {
   "cell_type": "code",
   "execution_count": 2,
   "metadata": {},
   "outputs": [],
   "source": [
    "import Hawkes as hk\n",
    "import numpy as np\n",
    "from matplotlib import pyplot as plt\n",
    "import math\n",
    "from mlxtend.evaluate import bias_variance_decomp"
   ]
  },
  {
   "cell_type": "code",
   "execution_count": 6,
   "metadata": {},
   "outputs": [],
   "source": [
    "def parameters_est_exp(sim_param, itv):\n",
    "    simulator = hk.simulator()\n",
    "    simulator.set_kernel(\"exp\").set_baseline(\"const\").set_parameter(sim_param)\n",
    "    T = simulator.simulate(itv)\n",
    "    estimator = hk.estimator()\n",
    "    estimator.set_kernel(\"exp\").set_baseline(\"const\")\n",
    "    estimator.fit(T,itv)\n",
    "    estimator.plot_KS()\n",
    "    return estimator, len(T)\n",
    "\n",
    "def parameters_est_plaw(sim_param,itv):\n",
    "    #mu_t = lambda x: ( 1.0 + 0.8*np.sin(2*np.pi*x/100) ) * 0.1\n",
    "    mu_t = lambda x: 0.2 + 0.1*np.sin(2*np.pi*x/100) \n",
    "    simulator = hk.simulator()\n",
    "    simulator.set_kernel('pow').set_baseline(\"const\").set_parameter(sim_param)\n",
    "    #simulator.set_kernel('pow').set_baseline('custom',l_custom=mu_t).set_parameter(sim_param)\n",
    "    T = simulator.simulate(itv)\n",
    "    estimator = hk.estimator()\n",
    "    estimator.set_kernel(\"pow\").set_baseline(\"const\")\n",
    "    estimator.fit(T,itv) \n",
    "    estimator.plot_KS()\n",
    "    return estimator, len(T)\n",
    "\n",
    "\n",
    "def simulate_parameters_exp(num_times, sim_param,itv):\n",
    "    br, mu, alpha, beta, ll, aic, events_num = [],[],[],[],[],[],[]\n",
    "    for i in range(num_times):\n",
    "        model, events  = parameters_est_exp(sim_param, itv)\n",
    "        br.append(model.br)\n",
    "        mu.append(model.parameter[\"mu\"])\n",
    "        alpha.append(model.parameter[\"alpha\"])\n",
    "        beta.append(model.parameter[\"beta\"])\n",
    "        ll.append(model.L)\n",
    "        aic.append(model.AIC)\n",
    "        events_num.append(events)\n",
    "    return {\"br\":round(np.mean(br),2),\"mu\":round(np.mean(mu),2),\n",
    "            \"alpha\":round(np.mean(alpha),2), \"beta\":round(np.mean(beta),2),\n",
    "            \"ll\":round(np.mean(ll),2),\"aic\":round(np.mean(aic),2),\"events\":round(np.mean(events_num),2)}\n",
    "\n",
    "def simulate_parameters_plaw(num_times, sim_param,itv):\n",
    "    br,p,c,k,ll,aic,events_num = [],[],[],[],[],[],[]\n",
    "    for i in range(num_times):\n",
    "        #mu_t = lambda x: ( 1.0 + 0.8*np.sin(2*np.pi*x/100) ) * 0.1\n",
    "        model, events  = parameters_est_plaw(sim_param, itv)\n",
    "        br.append(model.br)\n",
    "        k.append(model.parameter[\"k\"])\n",
    "        p.append(model.parameter[\"p\"])\n",
    "        c.append(model.parameter[\"c\"])\n",
    "        ll.append(model.L)\n",
    "        aic.append(model.AIC)\n",
    "        events_num.append(events)\n",
    "        \n",
    "    return {\"br\":round(np.mean(br),2),\"p\":round(np.mean(p),2),\n",
    "            \"c\":round(np.mean(c),2), \"k\":round(np.mean(k),2),\n",
    "            \"ll\":round(np.mean(ll),2),\"aic\":round(np.mean(aic),2),\"events\":round(np.mean(events_num),2)}"
   ]
  },
  {
   "cell_type": "code",
   "execution_count": 4,
   "metadata": {},
   "outputs": [
    {
     "data": {
      "text/plain": [
       "{'br': 0.15,\n",
       " 'mu': 0.05,\n",
       " 'alpha': 0.15,\n",
       " 'beta': 9.16,\n",
       " 'll': -21.47,\n",
       " 'aic': 48.93,\n",
       " 'events': 6.0}"
      ]
     },
     "execution_count": 4,
     "metadata": {},
     "output_type": "execute_result"
    },
    {
     "data": {
      "image/png": "[encoded data removed]",
      "text/plain": [
       "<Figure size 400x400 with 1 Axes>"
      ]
     },
     "metadata": {
      "needs_background": "light"
     },
     "output_type": "display_data"
    }
   ],
   "source": [
    " simulate_parameters_exp(1, {\"mu\":0.1,\"alpha\":0.5,\"beta\":0.001}, [0,100])"
   ]
  },
  {
   "cell_type": "code",
   "execution_count": null,
   "metadata": {},
   "outputs": [],
   "source": [
    "simulate_parameters_plaw(1,{\"mu\":0.1,'k':0.1, 'p':0.5, 'c':10},[0,500])"
   ]
  }
 ],
 "metadata": {
  "kernelspec": {
   "display_name": "Python 3",
   "language": "python",
   "name": "python3"
  },
  "language_info": {
   "codemirror_mode": {
    "name": "ipython",
    "version": 3
   },
   "file_extension": ".py",
   "mimetype": "text/x-python",
   "name": "python",
   "nbconvert_exporter": "python",
   "pygments_lexer": "ipython3",
   "version": "3.8.5"
  }
 },
 "nbformat": 4,
 "nbformat_minor": 4
}
